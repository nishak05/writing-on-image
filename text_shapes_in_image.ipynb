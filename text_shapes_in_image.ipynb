{
  "nbformat": 4,
  "nbformat_minor": 0,
  "metadata": {
    "colab": {
      "provenance": []
    },
    "kernelspec": {
      "name": "python3",
      "display_name": "Python 3"
    },
    "language_info": {
      "name": "python"
    }
  },
  "cells": [
    {
      "cell_type": "markdown",
      "source": [
        "writing on image and drawing different shapes"
      ],
      "metadata": {
        "id": "4Ipn9bVnPSRd"
      }
    },
    {
      "cell_type": "code",
      "execution_count": null,
      "metadata": {
        "id": "kaFDH264PKYQ"
      },
      "outputs": [],
      "source": [
        "import cv2"
      ]
    },
    {
      "cell_type": "code",
      "source": [
        "img=cv2.imread('stuff.jpg')"
      ],
      "metadata": {
        "id": "HiWFwx8yPacC"
      },
      "execution_count": null,
      "outputs": []
    },
    {
      "cell_type": "code",
      "source": [
        "print(img.shape)"
      ],
      "metadata": {
        "id": "P4YpOyjXPdbu"
      },
      "execution_count": null,
      "outputs": []
    },
    {
      "cell_type": "code",
      "source": [
        "cv2.line(img,(100,200),(400,300),(255,0,0),5)\n",
        "cv2.rectangle(img,(100,200),(600,400),(0,0,255),8)\n",
        "cv2.circle(img,(520,320),50,(0,255,0),5)\n",
        "cv2.putText(img,'heyyy',(100,150),cv2.FONT_ITALIC, 5,(0,255,255), 10)"
      ],
      "metadata": {
        "id": "8wDmZAkbPgyw"
      },
      "execution_count": null,
      "outputs": []
    },
    {
      "cell_type": "code",
      "source": [
        "cv2.imshow('img',img)\n",
        "cv2.waitKey(0)"
      ],
      "metadata": {
        "id": "T-4BZKv6PjZy"
      },
      "execution_count": null,
      "outputs": []
    }
  ]
}